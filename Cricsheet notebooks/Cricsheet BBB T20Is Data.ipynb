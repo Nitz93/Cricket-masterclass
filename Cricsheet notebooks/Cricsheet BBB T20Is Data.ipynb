{
 "cells": [
  {
   "cell_type": "markdown",
   "metadata": {},
   "source": [
    "## Imports"
   ]
  },
  {
   "cell_type": "code",
   "execution_count": 1,
   "metadata": {},
   "outputs": [],
   "source": [
    "import glob\n",
    "import pandas as pd"
   ]
  },
  {
   "cell_type": "markdown",
   "metadata": {},
   "source": [
    "## Combine Match by Match CSV files"
   ]
  },
  {
   "cell_type": "code",
   "execution_count": 2,
   "metadata": {},
   "outputs": [],
   "source": [
    "# importing multiple files in a directory, ignore files with _info\n",
    "l = [pd.read_csv(filename) for filename in glob.glob(\"t20s_csv2\\*.csv\") if ((\"_info\") not in filename) and ((\"all\") not in filename)]\n",
    "df = pd.concat(l, axis = 0)"
   ]
  },
  {
   "cell_type": "markdown",
   "metadata": {},
   "source": [
    "## Sneak peak"
   ]
  },
  {
   "cell_type": "code",
   "execution_count": 3,
   "metadata": {
    "scrolled": true
   },
   "outputs": [
    {
     "data": {
      "text/html": [
       "<div>\n",
       "<style scoped>\n",
       "    .dataframe tbody tr th:only-of-type {\n",
       "        vertical-align: middle;\n",
       "    }\n",
       "\n",
       "    .dataframe tbody tr th {\n",
       "        vertical-align: top;\n",
       "    }\n",
       "\n",
       "    .dataframe thead th {\n",
       "        text-align: right;\n",
       "    }\n",
       "</style>\n",
       "<table border=\"1\" class=\"dataframe\">\n",
       "  <thead>\n",
       "    <tr style=\"text-align: right;\">\n",
       "      <th></th>\n",
       "      <th>match_id</th>\n",
       "      <th>season</th>\n",
       "      <th>start_date</th>\n",
       "      <th>venue</th>\n",
       "      <th>innings</th>\n",
       "      <th>ball</th>\n",
       "      <th>batting_team</th>\n",
       "      <th>bowling_team</th>\n",
       "      <th>striker</th>\n",
       "      <th>non_striker</th>\n",
       "      <th>...</th>\n",
       "      <th>extras</th>\n",
       "      <th>wides</th>\n",
       "      <th>noballs</th>\n",
       "      <th>byes</th>\n",
       "      <th>legbyes</th>\n",
       "      <th>penalty</th>\n",
       "      <th>wicket_type</th>\n",
       "      <th>player_dismissed</th>\n",
       "      <th>other_wicket_type</th>\n",
       "      <th>other_player_dismissed</th>\n",
       "    </tr>\n",
       "  </thead>\n",
       "  <tbody>\n",
       "    <tr>\n",
       "      <th>231</th>\n",
       "      <td>995469</td>\n",
       "      <td>2016</td>\n",
       "      <td>2016-09-09</td>\n",
       "      <td>R Premadasa Stadium</td>\n",
       "      <td>2</td>\n",
       "      <td>17.1</td>\n",
       "      <td>Australia</td>\n",
       "      <td>Sri Lanka</td>\n",
       "      <td>TM Head</td>\n",
       "      <td>PM Nevill</td>\n",
       "      <td>...</td>\n",
       "      <td>0</td>\n",
       "      <td>NaN</td>\n",
       "      <td>NaN</td>\n",
       "      <td>NaN</td>\n",
       "      <td>NaN</td>\n",
       "      <td>NaN</td>\n",
       "      <td>NaN</td>\n",
       "      <td>NaN</td>\n",
       "      <td>NaN</td>\n",
       "      <td>NaN</td>\n",
       "    </tr>\n",
       "    <tr>\n",
       "      <th>232</th>\n",
       "      <td>995469</td>\n",
       "      <td>2016</td>\n",
       "      <td>2016-09-09</td>\n",
       "      <td>R Premadasa Stadium</td>\n",
       "      <td>2</td>\n",
       "      <td>17.2</td>\n",
       "      <td>Australia</td>\n",
       "      <td>Sri Lanka</td>\n",
       "      <td>PM Nevill</td>\n",
       "      <td>TM Head</td>\n",
       "      <td>...</td>\n",
       "      <td>0</td>\n",
       "      <td>NaN</td>\n",
       "      <td>NaN</td>\n",
       "      <td>NaN</td>\n",
       "      <td>NaN</td>\n",
       "      <td>NaN</td>\n",
       "      <td>NaN</td>\n",
       "      <td>NaN</td>\n",
       "      <td>NaN</td>\n",
       "      <td>NaN</td>\n",
       "    </tr>\n",
       "    <tr>\n",
       "      <th>233</th>\n",
       "      <td>995469</td>\n",
       "      <td>2016</td>\n",
       "      <td>2016-09-09</td>\n",
       "      <td>R Premadasa Stadium</td>\n",
       "      <td>2</td>\n",
       "      <td>17.3</td>\n",
       "      <td>Australia</td>\n",
       "      <td>Sri Lanka</td>\n",
       "      <td>TM Head</td>\n",
       "      <td>PM Nevill</td>\n",
       "      <td>...</td>\n",
       "      <td>0</td>\n",
       "      <td>NaN</td>\n",
       "      <td>NaN</td>\n",
       "      <td>NaN</td>\n",
       "      <td>NaN</td>\n",
       "      <td>NaN</td>\n",
       "      <td>NaN</td>\n",
       "      <td>NaN</td>\n",
       "      <td>NaN</td>\n",
       "      <td>NaN</td>\n",
       "    </tr>\n",
       "    <tr>\n",
       "      <th>234</th>\n",
       "      <td>995469</td>\n",
       "      <td>2016</td>\n",
       "      <td>2016-09-09</td>\n",
       "      <td>R Premadasa Stadium</td>\n",
       "      <td>2</td>\n",
       "      <td>17.4</td>\n",
       "      <td>Australia</td>\n",
       "      <td>Sri Lanka</td>\n",
       "      <td>TM Head</td>\n",
       "      <td>PM Nevill</td>\n",
       "      <td>...</td>\n",
       "      <td>0</td>\n",
       "      <td>NaN</td>\n",
       "      <td>NaN</td>\n",
       "      <td>NaN</td>\n",
       "      <td>NaN</td>\n",
       "      <td>NaN</td>\n",
       "      <td>NaN</td>\n",
       "      <td>NaN</td>\n",
       "      <td>NaN</td>\n",
       "      <td>NaN</td>\n",
       "    </tr>\n",
       "    <tr>\n",
       "      <th>235</th>\n",
       "      <td>995469</td>\n",
       "      <td>2016</td>\n",
       "      <td>2016-09-09</td>\n",
       "      <td>R Premadasa Stadium</td>\n",
       "      <td>2</td>\n",
       "      <td>17.5</td>\n",
       "      <td>Australia</td>\n",
       "      <td>Sri Lanka</td>\n",
       "      <td>TM Head</td>\n",
       "      <td>PM Nevill</td>\n",
       "      <td>...</td>\n",
       "      <td>0</td>\n",
       "      <td>NaN</td>\n",
       "      <td>NaN</td>\n",
       "      <td>NaN</td>\n",
       "      <td>NaN</td>\n",
       "      <td>NaN</td>\n",
       "      <td>NaN</td>\n",
       "      <td>NaN</td>\n",
       "      <td>NaN</td>\n",
       "      <td>NaN</td>\n",
       "    </tr>\n",
       "  </tbody>\n",
       "</table>\n",
       "<p>5 rows × 22 columns</p>\n",
       "</div>"
      ],
      "text/plain": [
       "     match_id season  start_date                venue  innings  ball  \\\n",
       "231    995469   2016  2016-09-09  R Premadasa Stadium        2  17.1   \n",
       "232    995469   2016  2016-09-09  R Premadasa Stadium        2  17.2   \n",
       "233    995469   2016  2016-09-09  R Premadasa Stadium        2  17.3   \n",
       "234    995469   2016  2016-09-09  R Premadasa Stadium        2  17.4   \n",
       "235    995469   2016  2016-09-09  R Premadasa Stadium        2  17.5   \n",
       "\n",
       "    batting_team bowling_team    striker non_striker  ... extras  wides  \\\n",
       "231    Australia    Sri Lanka    TM Head   PM Nevill  ...      0    NaN   \n",
       "232    Australia    Sri Lanka  PM Nevill     TM Head  ...      0    NaN   \n",
       "233    Australia    Sri Lanka    TM Head   PM Nevill  ...      0    NaN   \n",
       "234    Australia    Sri Lanka    TM Head   PM Nevill  ...      0    NaN   \n",
       "235    Australia    Sri Lanka    TM Head   PM Nevill  ...      0    NaN   \n",
       "\n",
       "     noballs  byes  legbyes  penalty  wicket_type  player_dismissed  \\\n",
       "231      NaN   NaN      NaN      NaN          NaN               NaN   \n",
       "232      NaN   NaN      NaN      NaN          NaN               NaN   \n",
       "233      NaN   NaN      NaN      NaN          NaN               NaN   \n",
       "234      NaN   NaN      NaN      NaN          NaN               NaN   \n",
       "235      NaN   NaN      NaN      NaN          NaN               NaN   \n",
       "\n",
       "    other_wicket_type other_player_dismissed  \n",
       "231               NaN                    NaN  \n",
       "232               NaN                    NaN  \n",
       "233               NaN                    NaN  \n",
       "234               NaN                    NaN  \n",
       "235               NaN                    NaN  \n",
       "\n",
       "[5 rows x 22 columns]"
      ]
     },
     "execution_count": 3,
     "metadata": {},
     "output_type": "execute_result"
    }
   ],
   "source": [
    "df.tail()"
   ]
  },
  {
   "cell_type": "code",
   "execution_count": 4,
   "metadata": {},
   "outputs": [
    {
     "data": {
      "text/plain": [
       "array(['2016/17', 2016, 2017, '2017/18', 2018, '2018/19', 2019, '2019/20',\n",
       "       2020, '2020/21', 2021, '2021/22', 2022, '2022/23', 2005, '2004/05',\n",
       "       '2005/06', 2006, '2006/07', 2007, '2007/08', 2008, 2009, '2008/09',\n",
       "       '2009/10', 2010, '2010/11', 2011, '2011/12', '2012/13', 2012, 2013,\n",
       "       '2013/14', 2014, '2014/15', 2015, '2015/16'], dtype=object)"
      ]
     },
     "execution_count": 4,
     "metadata": {},
     "output_type": "execute_result"
    }
   ],
   "source": [
    "# unique seasons\n",
    "df.season.unique()"
   ]
  },
  {
   "cell_type": "markdown",
   "metadata": {},
   "source": [
    "## Check for duplicates"
   ]
  },
  {
   "cell_type": "code",
   "execution_count": 5,
   "metadata": {
    "scrolled": true
   },
   "outputs": [
    {
     "data": {
      "text/plain": [
       "11"
      ]
     },
     "execution_count": 5,
     "metadata": {},
     "output_type": "execute_result"
    }
   ],
   "source": [
    "len(df)-len(df.drop_duplicates())"
   ]
  },
  {
   "cell_type": "code",
   "execution_count": 6,
   "metadata": {},
   "outputs": [],
   "source": [
    "# remove duplicates\n",
    "df = df.drop_duplicates(keep = 'first')"
   ]
  },
  {
   "cell_type": "markdown",
   "metadata": {},
   "source": [
    "## Sort by dates"
   ]
  },
  {
   "cell_type": "code",
   "execution_count": 7,
   "metadata": {},
   "outputs": [],
   "source": [
    "# sort by required order - date, matchid, innings, ball_number\n",
    "df['start_date'] = pd.to_datetime(df['start_date'])\n",
    "df = df.sort_values(['start_date', 'match_id', 'innings', 'ball'], ascending = True)"
   ]
  },
  {
   "cell_type": "markdown",
   "metadata": {},
   "source": [
    "## Check after sorting"
   ]
  },
  {
   "cell_type": "code",
   "execution_count": 8,
   "metadata": {},
   "outputs": [
    {
     "data": {
      "text/html": [
       "<div>\n",
       "<style scoped>\n",
       "    .dataframe tbody tr th:only-of-type {\n",
       "        vertical-align: middle;\n",
       "    }\n",
       "\n",
       "    .dataframe tbody tr th {\n",
       "        vertical-align: top;\n",
       "    }\n",
       "\n",
       "    .dataframe thead th {\n",
       "        text-align: right;\n",
       "    }\n",
       "</style>\n",
       "<table border=\"1\" class=\"dataframe\">\n",
       "  <thead>\n",
       "    <tr style=\"text-align: right;\">\n",
       "      <th></th>\n",
       "      <th>match_id</th>\n",
       "      <th>season</th>\n",
       "      <th>start_date</th>\n",
       "      <th>venue</th>\n",
       "      <th>innings</th>\n",
       "      <th>ball</th>\n",
       "      <th>batting_team</th>\n",
       "      <th>bowling_team</th>\n",
       "      <th>striker</th>\n",
       "      <th>non_striker</th>\n",
       "      <th>...</th>\n",
       "      <th>extras</th>\n",
       "      <th>wides</th>\n",
       "      <th>noballs</th>\n",
       "      <th>byes</th>\n",
       "      <th>legbyes</th>\n",
       "      <th>penalty</th>\n",
       "      <th>wicket_type</th>\n",
       "      <th>player_dismissed</th>\n",
       "      <th>other_wicket_type</th>\n",
       "      <th>other_player_dismissed</th>\n",
       "    </tr>\n",
       "  </thead>\n",
       "  <tbody>\n",
       "    <tr>\n",
       "      <th>0</th>\n",
       "      <td>211048</td>\n",
       "      <td>2004/05</td>\n",
       "      <td>2005-02-17</td>\n",
       "      <td>Eden Park</td>\n",
       "      <td>1</td>\n",
       "      <td>0.1</td>\n",
       "      <td>Australia</td>\n",
       "      <td>New Zealand</td>\n",
       "      <td>AC Gilchrist</td>\n",
       "      <td>MJ Clarke</td>\n",
       "      <td>...</td>\n",
       "      <td>1</td>\n",
       "      <td>1.0</td>\n",
       "      <td>NaN</td>\n",
       "      <td>NaN</td>\n",
       "      <td>NaN</td>\n",
       "      <td>NaN</td>\n",
       "      <td>NaN</td>\n",
       "      <td>NaN</td>\n",
       "      <td>NaN</td>\n",
       "      <td>NaN</td>\n",
       "    </tr>\n",
       "    <tr>\n",
       "      <th>1</th>\n",
       "      <td>211048</td>\n",
       "      <td>2004/05</td>\n",
       "      <td>2005-02-17</td>\n",
       "      <td>Eden Park</td>\n",
       "      <td>1</td>\n",
       "      <td>0.2</td>\n",
       "      <td>Australia</td>\n",
       "      <td>New Zealand</td>\n",
       "      <td>AC Gilchrist</td>\n",
       "      <td>MJ Clarke</td>\n",
       "      <td>...</td>\n",
       "      <td>1</td>\n",
       "      <td>NaN</td>\n",
       "      <td>NaN</td>\n",
       "      <td>NaN</td>\n",
       "      <td>1.0</td>\n",
       "      <td>NaN</td>\n",
       "      <td>NaN</td>\n",
       "      <td>NaN</td>\n",
       "      <td>NaN</td>\n",
       "      <td>NaN</td>\n",
       "    </tr>\n",
       "    <tr>\n",
       "      <th>2</th>\n",
       "      <td>211048</td>\n",
       "      <td>2004/05</td>\n",
       "      <td>2005-02-17</td>\n",
       "      <td>Eden Park</td>\n",
       "      <td>1</td>\n",
       "      <td>0.3</td>\n",
       "      <td>Australia</td>\n",
       "      <td>New Zealand</td>\n",
       "      <td>MJ Clarke</td>\n",
       "      <td>AC Gilchrist</td>\n",
       "      <td>...</td>\n",
       "      <td>0</td>\n",
       "      <td>NaN</td>\n",
       "      <td>NaN</td>\n",
       "      <td>NaN</td>\n",
       "      <td>NaN</td>\n",
       "      <td>NaN</td>\n",
       "      <td>NaN</td>\n",
       "      <td>NaN</td>\n",
       "      <td>NaN</td>\n",
       "      <td>NaN</td>\n",
       "    </tr>\n",
       "    <tr>\n",
       "      <th>3</th>\n",
       "      <td>211048</td>\n",
       "      <td>2004/05</td>\n",
       "      <td>2005-02-17</td>\n",
       "      <td>Eden Park</td>\n",
       "      <td>1</td>\n",
       "      <td>0.4</td>\n",
       "      <td>Australia</td>\n",
       "      <td>New Zealand</td>\n",
       "      <td>MJ Clarke</td>\n",
       "      <td>AC Gilchrist</td>\n",
       "      <td>...</td>\n",
       "      <td>0</td>\n",
       "      <td>NaN</td>\n",
       "      <td>NaN</td>\n",
       "      <td>NaN</td>\n",
       "      <td>NaN</td>\n",
       "      <td>NaN</td>\n",
       "      <td>NaN</td>\n",
       "      <td>NaN</td>\n",
       "      <td>NaN</td>\n",
       "      <td>NaN</td>\n",
       "    </tr>\n",
       "    <tr>\n",
       "      <th>4</th>\n",
       "      <td>211048</td>\n",
       "      <td>2004/05</td>\n",
       "      <td>2005-02-17</td>\n",
       "      <td>Eden Park</td>\n",
       "      <td>1</td>\n",
       "      <td>0.5</td>\n",
       "      <td>Australia</td>\n",
       "      <td>New Zealand</td>\n",
       "      <td>AC Gilchrist</td>\n",
       "      <td>MJ Clarke</td>\n",
       "      <td>...</td>\n",
       "      <td>0</td>\n",
       "      <td>NaN</td>\n",
       "      <td>NaN</td>\n",
       "      <td>NaN</td>\n",
       "      <td>NaN</td>\n",
       "      <td>NaN</td>\n",
       "      <td>NaN</td>\n",
       "      <td>NaN</td>\n",
       "      <td>NaN</td>\n",
       "      <td>NaN</td>\n",
       "    </tr>\n",
       "  </tbody>\n",
       "</table>\n",
       "<p>5 rows × 22 columns</p>\n",
       "</div>"
      ],
      "text/plain": [
       "   match_id   season start_date      venue  innings  ball batting_team  \\\n",
       "0    211048  2004/05 2005-02-17  Eden Park        1   0.1    Australia   \n",
       "1    211048  2004/05 2005-02-17  Eden Park        1   0.2    Australia   \n",
       "2    211048  2004/05 2005-02-17  Eden Park        1   0.3    Australia   \n",
       "3    211048  2004/05 2005-02-17  Eden Park        1   0.4    Australia   \n",
       "4    211048  2004/05 2005-02-17  Eden Park        1   0.5    Australia   \n",
       "\n",
       "  bowling_team       striker   non_striker  ... extras  wides  noballs  byes  \\\n",
       "0  New Zealand  AC Gilchrist     MJ Clarke  ...      1    1.0      NaN   NaN   \n",
       "1  New Zealand  AC Gilchrist     MJ Clarke  ...      1    NaN      NaN   NaN   \n",
       "2  New Zealand     MJ Clarke  AC Gilchrist  ...      0    NaN      NaN   NaN   \n",
       "3  New Zealand     MJ Clarke  AC Gilchrist  ...      0    NaN      NaN   NaN   \n",
       "4  New Zealand  AC Gilchrist     MJ Clarke  ...      0    NaN      NaN   NaN   \n",
       "\n",
       "   legbyes  penalty  wicket_type  player_dismissed other_wicket_type  \\\n",
       "0      NaN      NaN          NaN               NaN               NaN   \n",
       "1      1.0      NaN          NaN               NaN               NaN   \n",
       "2      NaN      NaN          NaN               NaN               NaN   \n",
       "3      NaN      NaN          NaN               NaN               NaN   \n",
       "4      NaN      NaN          NaN               NaN               NaN   \n",
       "\n",
       "  other_player_dismissed  \n",
       "0                    NaN  \n",
       "1                    NaN  \n",
       "2                    NaN  \n",
       "3                    NaN  \n",
       "4                    NaN  \n",
       "\n",
       "[5 rows x 22 columns]"
      ]
     },
     "execution_count": 8,
     "metadata": {},
     "output_type": "execute_result"
    }
   ],
   "source": [
    "df.head()"
   ]
  },
  {
   "cell_type": "markdown",
   "metadata": {},
   "source": [
    "## Size of the data"
   ]
  },
  {
   "cell_type": "code",
   "execution_count": 9,
   "metadata": {
    "scrolled": true
   },
   "outputs": [
    {
     "data": {
      "text/plain": [
       "540332"
      ]
     },
     "execution_count": 9,
     "metadata": {},
     "output_type": "execute_result"
    }
   ],
   "source": [
    "len(df)"
   ]
  },
  {
   "cell_type": "markdown",
   "metadata": {},
   "source": [
    "## Most latest match"
   ]
  },
  {
   "cell_type": "code",
   "execution_count": 10,
   "metadata": {
    "scrolled": false
   },
   "outputs": [
    {
     "data": {
      "text/html": [
       "<div>\n",
       "<style scoped>\n",
       "    .dataframe tbody tr th:only-of-type {\n",
       "        vertical-align: middle;\n",
       "    }\n",
       "\n",
       "    .dataframe tbody tr th {\n",
       "        vertical-align: top;\n",
       "    }\n",
       "\n",
       "    .dataframe thead th {\n",
       "        text-align: right;\n",
       "    }\n",
       "</style>\n",
       "<table border=\"1\" class=\"dataframe\">\n",
       "  <thead>\n",
       "    <tr style=\"text-align: right;\">\n",
       "      <th></th>\n",
       "      <th>match_id</th>\n",
       "      <th>season</th>\n",
       "      <th>start_date</th>\n",
       "      <th>venue</th>\n",
       "      <th>innings</th>\n",
       "      <th>ball</th>\n",
       "      <th>batting_team</th>\n",
       "      <th>bowling_team</th>\n",
       "      <th>striker</th>\n",
       "      <th>non_striker</th>\n",
       "      <th>...</th>\n",
       "      <th>extras</th>\n",
       "      <th>wides</th>\n",
       "      <th>noballs</th>\n",
       "      <th>byes</th>\n",
       "      <th>legbyes</th>\n",
       "      <th>penalty</th>\n",
       "      <th>wicket_type</th>\n",
       "      <th>player_dismissed</th>\n",
       "      <th>other_wicket_type</th>\n",
       "      <th>other_player_dismissed</th>\n",
       "    </tr>\n",
       "  </thead>\n",
       "  <tbody>\n",
       "    <tr>\n",
       "      <th>250</th>\n",
       "      <td>1298144</td>\n",
       "      <td>2022/23</td>\n",
       "      <td>2022-10-20</td>\n",
       "      <td>GMHBA Stadium, South Geelong, Victoria</td>\n",
       "      <td>2</td>\n",
       "      <td>19.6</td>\n",
       "      <td>Namibia</td>\n",
       "      <td>United Arab Emirates</td>\n",
       "      <td>R Trumpelmann</td>\n",
       "      <td>BM Scholtz</td>\n",
       "      <td>...</td>\n",
       "      <td>0</td>\n",
       "      <td>NaN</td>\n",
       "      <td>NaN</td>\n",
       "      <td>NaN</td>\n",
       "      <td>NaN</td>\n",
       "      <td>NaN</td>\n",
       "      <td>NaN</td>\n",
       "      <td>NaN</td>\n",
       "      <td>NaN</td>\n",
       "      <td>NaN</td>\n",
       "    </tr>\n",
       "  </tbody>\n",
       "</table>\n",
       "<p>1 rows × 22 columns</p>\n",
       "</div>"
      ],
      "text/plain": [
       "     match_id   season start_date                                   venue  \\\n",
       "250   1298144  2022/23 2022-10-20  GMHBA Stadium, South Geelong, Victoria   \n",
       "\n",
       "     innings  ball batting_team          bowling_team        striker  \\\n",
       "250        2  19.6      Namibia  United Arab Emirates  R Trumpelmann   \n",
       "\n",
       "    non_striker  ... extras  wides  noballs  byes  legbyes  penalty  \\\n",
       "250  BM Scholtz  ...      0    NaN      NaN   NaN      NaN      NaN   \n",
       "\n",
       "     wicket_type  player_dismissed other_wicket_type other_player_dismissed  \n",
       "250          NaN               NaN               NaN                    NaN  \n",
       "\n",
       "[1 rows x 22 columns]"
      ]
     },
     "execution_count": 10,
     "metadata": {},
     "output_type": "execute_result"
    }
   ],
   "source": [
    "df.tail(1)"
   ]
  },
  {
   "cell_type": "markdown",
   "metadata": {},
   "source": [
    "## No of matches\n",
    "<!-- 475360 -->"
   ]
  },
  {
   "cell_type": "code",
   "execution_count": 11,
   "metadata": {},
   "outputs": [
    {
     "data": {
      "text/plain": [
       "2365"
      ]
     },
     "execution_count": 11,
     "metadata": {},
     "output_type": "execute_result"
    }
   ],
   "source": [
    "df.match_id.nunique()"
   ]
  },
  {
   "cell_type": "markdown",
   "metadata": {},
   "source": [
    "## Export to single CSV"
   ]
  },
  {
   "cell_type": "code",
   "execution_count": 12,
   "metadata": {},
   "outputs": [],
   "source": [
    "df.to_csv('T20I_ball_by_ball_updated.csv', index = False)"
   ]
  }
 ],
 "metadata": {
  "hide_input": false,
  "kernelspec": {
   "display_name": "Python 3 (ipykernel)",
   "language": "python",
   "name": "python3"
  },
  "language_info": {
   "codemirror_mode": {
    "name": "ipython",
    "version": 3
   },
   "file_extension": ".py",
   "mimetype": "text/x-python",
   "name": "python",
   "nbconvert_exporter": "python",
   "pygments_lexer": "ipython3",
   "version": "3.9.7"
  }
 },
 "nbformat": 4,
 "nbformat_minor": 2
}
