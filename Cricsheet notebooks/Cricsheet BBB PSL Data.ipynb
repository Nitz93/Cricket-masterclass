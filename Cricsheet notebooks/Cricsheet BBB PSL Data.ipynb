{
 "cells": [
  {
   "cell_type": "markdown",
   "metadata": {},
   "source": [
    "## Imports"
   ]
  },
  {
   "cell_type": "code",
   "execution_count": 1,
   "metadata": {},
   "outputs": [],
   "source": [
    "import glob\n",
    "import pandas as pd"
   ]
  },
  {
   "cell_type": "code",
   "execution_count": 2,
   "metadata": {},
   "outputs": [],
   "source": [
    "# importing multiple files in a directory, ignore files with _info\n",
    "l = [pd.read_csv(filename) for filename in glob.glob(\"psl_csv2\\*.csv\") if \"_info\" not in filename]\n",
    "df = pd.concat(l, axis = 0)"
   ]
  },
  {
   "cell_type": "markdown",
   "metadata": {},
   "source": [
    "## Check for duplicates & errors"
   ]
  },
  {
   "cell_type": "code",
   "execution_count": 3,
   "metadata": {},
   "outputs": [
    {
     "data": {
      "text/plain": [
       "array(['2016/17', '2017/18', '2018/19', '2019/20', '2020/21', 2021,\n",
       "       '2021/22', '2015/16', '2021'], dtype=object)"
      ]
     },
     "execution_count": 3,
     "metadata": {},
     "output_type": "execute_result"
    }
   ],
   "source": [
    "df.season.unique()"
   ]
  },
  {
   "cell_type": "code",
   "execution_count": 4,
   "metadata": {
    "scrolled": true
   },
   "outputs": [
    {
     "data": {
      "text/plain": [
       "45381"
      ]
     },
     "execution_count": 4,
     "metadata": {},
     "output_type": "execute_result"
    }
   ],
   "source": [
    "len(df)-len(df.drop_duplicates())"
   ]
  },
  {
   "cell_type": "markdown",
   "metadata": {},
   "source": [
    "## Correcting the errors"
   ]
  },
  {
   "cell_type": "code",
   "execution_count": 5,
   "metadata": {},
   "outputs": [],
   "source": [
    "# convert seasons with slash to years\n",
    "df = df.replace('2021/22', 2022)\n",
    "df = df.replace('2021', 2021)\n",
    "df = df.replace('2020/21', 2021)\n",
    "df = df.replace('2019/20', 2020)\n",
    "df = df.replace('2018/19', 2019)\n",
    "df = df.replace('2017/18', 2018)\n",
    "df = df.replace('2016/17', 2017)\n",
    "df = df.replace('2015/16', 2016)"
   ]
  },
  {
   "cell_type": "code",
   "execution_count": 6,
   "metadata": {},
   "outputs": [
    {
     "data": {
      "text/plain": [
       "array([2017, 2018, 2019, 2020, 2021, 2022, 2016], dtype=int64)"
      ]
     },
     "execution_count": 6,
     "metadata": {},
     "output_type": "execute_result"
    }
   ],
   "source": [
    "#check after converting strings to int\n",
    "df.season.unique()"
   ]
  },
  {
   "cell_type": "code",
   "execution_count": 7,
   "metadata": {},
   "outputs": [
    {
     "data": {
      "text/plain": [
       "0"
      ]
     },
     "execution_count": 7,
     "metadata": {},
     "output_type": "execute_result"
    }
   ],
   "source": [
    "# check after removing duplicates\n",
    "df = df.drop_duplicates(keep = 'first')\n",
    "len(df)-len(df.drop_duplicates())"
   ]
  },
  {
   "cell_type": "markdown",
   "metadata": {},
   "source": [
    "## Sort by datetime"
   ]
  },
  {
   "cell_type": "code",
   "execution_count": 8,
   "metadata": {},
   "outputs": [],
   "source": [
    "# sort by required order - date, matchid, innings, ball_number\n",
    "df['start_date'] = pd.to_datetime(df['start_date'])\n",
    "df = df.sort_values(['start_date', 'match_id', 'innings', 'ball'], ascending = True)"
   ]
  },
  {
   "cell_type": "code",
   "execution_count": 9,
   "metadata": {},
   "outputs": [],
   "source": [
    "# reset index and export to csv\n",
    "df.reset_index(inplace = True, drop  = True)\n",
    "df.to_csv('PSL_ball_by_ball.csv', index = None)"
   ]
  },
  {
   "cell_type": "code",
   "execution_count": 10,
   "metadata": {},
   "outputs": [
    {
     "data": {
      "text/plain": [
       "50097"
      ]
     },
     "execution_count": 10,
     "metadata": {},
     "output_type": "execute_result"
    }
   ],
   "source": [
    "# total file size\n",
    "len(df)"
   ]
  },
  {
   "cell_type": "code",
   "execution_count": 11,
   "metadata": {
    "scrolled": true
   },
   "outputs": [
    {
     "data": {
      "text/html": [
       "<div>\n",
       "<style scoped>\n",
       "    .dataframe tbody tr th:only-of-type {\n",
       "        vertical-align: middle;\n",
       "    }\n",
       "\n",
       "    .dataframe tbody tr th {\n",
       "        vertical-align: top;\n",
       "    }\n",
       "\n",
       "    .dataframe thead th {\n",
       "        text-align: right;\n",
       "    }\n",
       "</style>\n",
       "<table border=\"1\" class=\"dataframe\">\n",
       "  <thead>\n",
       "    <tr style=\"text-align: right;\">\n",
       "      <th></th>\n",
       "      <th>match_id</th>\n",
       "      <th>season</th>\n",
       "      <th>start_date</th>\n",
       "      <th>venue</th>\n",
       "      <th>innings</th>\n",
       "      <th>ball</th>\n",
       "      <th>batting_team</th>\n",
       "      <th>bowling_team</th>\n",
       "      <th>striker</th>\n",
       "      <th>non_striker</th>\n",
       "      <th>...</th>\n",
       "      <th>extras</th>\n",
       "      <th>wides</th>\n",
       "      <th>noballs</th>\n",
       "      <th>byes</th>\n",
       "      <th>legbyes</th>\n",
       "      <th>penalty</th>\n",
       "      <th>wicket_type</th>\n",
       "      <th>player_dismissed</th>\n",
       "      <th>other_wicket_type</th>\n",
       "      <th>other_player_dismissed</th>\n",
       "    </tr>\n",
       "  </thead>\n",
       "  <tbody>\n",
       "    <tr>\n",
       "      <th>0</th>\n",
       "      <td>959175</td>\n",
       "      <td>2016</td>\n",
       "      <td>2016-02-04</td>\n",
       "      <td>Dubai International Cricket Stadium</td>\n",
       "      <td>1</td>\n",
       "      <td>0.1</td>\n",
       "      <td>Islamabad United</td>\n",
       "      <td>Quetta Gladiators</td>\n",
       "      <td>SR Watson</td>\n",
       "      <td>Sharjeel Khan</td>\n",
       "      <td>...</td>\n",
       "      <td>0</td>\n",
       "      <td>NaN</td>\n",
       "      <td>NaN</td>\n",
       "      <td>NaN</td>\n",
       "      <td>NaN</td>\n",
       "      <td>NaN</td>\n",
       "      <td>NaN</td>\n",
       "      <td>NaN</td>\n",
       "      <td>NaN</td>\n",
       "      <td>NaN</td>\n",
       "    </tr>\n",
       "    <tr>\n",
       "      <th>1</th>\n",
       "      <td>959175</td>\n",
       "      <td>2016</td>\n",
       "      <td>2016-02-04</td>\n",
       "      <td>Dubai International Cricket Stadium</td>\n",
       "      <td>1</td>\n",
       "      <td>0.2</td>\n",
       "      <td>Islamabad United</td>\n",
       "      <td>Quetta Gladiators</td>\n",
       "      <td>SR Watson</td>\n",
       "      <td>Sharjeel Khan</td>\n",
       "      <td>...</td>\n",
       "      <td>0</td>\n",
       "      <td>NaN</td>\n",
       "      <td>NaN</td>\n",
       "      <td>NaN</td>\n",
       "      <td>NaN</td>\n",
       "      <td>NaN</td>\n",
       "      <td>NaN</td>\n",
       "      <td>NaN</td>\n",
       "      <td>NaN</td>\n",
       "      <td>NaN</td>\n",
       "    </tr>\n",
       "    <tr>\n",
       "      <th>2</th>\n",
       "      <td>959175</td>\n",
       "      <td>2016</td>\n",
       "      <td>2016-02-04</td>\n",
       "      <td>Dubai International Cricket Stadium</td>\n",
       "      <td>1</td>\n",
       "      <td>0.3</td>\n",
       "      <td>Islamabad United</td>\n",
       "      <td>Quetta Gladiators</td>\n",
       "      <td>SR Watson</td>\n",
       "      <td>Sharjeel Khan</td>\n",
       "      <td>...</td>\n",
       "      <td>0</td>\n",
       "      <td>NaN</td>\n",
       "      <td>NaN</td>\n",
       "      <td>NaN</td>\n",
       "      <td>NaN</td>\n",
       "      <td>NaN</td>\n",
       "      <td>NaN</td>\n",
       "      <td>NaN</td>\n",
       "      <td>NaN</td>\n",
       "      <td>NaN</td>\n",
       "    </tr>\n",
       "    <tr>\n",
       "      <th>3</th>\n",
       "      <td>959175</td>\n",
       "      <td>2016</td>\n",
       "      <td>2016-02-04</td>\n",
       "      <td>Dubai International Cricket Stadium</td>\n",
       "      <td>1</td>\n",
       "      <td>0.4</td>\n",
       "      <td>Islamabad United</td>\n",
       "      <td>Quetta Gladiators</td>\n",
       "      <td>SR Watson</td>\n",
       "      <td>Sharjeel Khan</td>\n",
       "      <td>...</td>\n",
       "      <td>0</td>\n",
       "      <td>NaN</td>\n",
       "      <td>NaN</td>\n",
       "      <td>NaN</td>\n",
       "      <td>NaN</td>\n",
       "      <td>NaN</td>\n",
       "      <td>NaN</td>\n",
       "      <td>NaN</td>\n",
       "      <td>NaN</td>\n",
       "      <td>NaN</td>\n",
       "    </tr>\n",
       "    <tr>\n",
       "      <th>4</th>\n",
       "      <td>959175</td>\n",
       "      <td>2016</td>\n",
       "      <td>2016-02-04</td>\n",
       "      <td>Dubai International Cricket Stadium</td>\n",
       "      <td>1</td>\n",
       "      <td>0.5</td>\n",
       "      <td>Islamabad United</td>\n",
       "      <td>Quetta Gladiators</td>\n",
       "      <td>SR Watson</td>\n",
       "      <td>Sharjeel Khan</td>\n",
       "      <td>...</td>\n",
       "      <td>0</td>\n",
       "      <td>NaN</td>\n",
       "      <td>NaN</td>\n",
       "      <td>NaN</td>\n",
       "      <td>NaN</td>\n",
       "      <td>NaN</td>\n",
       "      <td>NaN</td>\n",
       "      <td>NaN</td>\n",
       "      <td>NaN</td>\n",
       "      <td>NaN</td>\n",
       "    </tr>\n",
       "  </tbody>\n",
       "</table>\n",
       "<p>5 rows × 22 columns</p>\n",
       "</div>"
      ],
      "text/plain": [
       "   match_id  season start_date                                venue  innings  \\\n",
       "0    959175    2016 2016-02-04  Dubai International Cricket Stadium        1   \n",
       "1    959175    2016 2016-02-04  Dubai International Cricket Stadium        1   \n",
       "2    959175    2016 2016-02-04  Dubai International Cricket Stadium        1   \n",
       "3    959175    2016 2016-02-04  Dubai International Cricket Stadium        1   \n",
       "4    959175    2016 2016-02-04  Dubai International Cricket Stadium        1   \n",
       "\n",
       "   ball      batting_team       bowling_team    striker    non_striker  ...  \\\n",
       "0   0.1  Islamabad United  Quetta Gladiators  SR Watson  Sharjeel Khan  ...   \n",
       "1   0.2  Islamabad United  Quetta Gladiators  SR Watson  Sharjeel Khan  ...   \n",
       "2   0.3  Islamabad United  Quetta Gladiators  SR Watson  Sharjeel Khan  ...   \n",
       "3   0.4  Islamabad United  Quetta Gladiators  SR Watson  Sharjeel Khan  ...   \n",
       "4   0.5  Islamabad United  Quetta Gladiators  SR Watson  Sharjeel Khan  ...   \n",
       "\n",
       "  extras  wides  noballs  byes  legbyes  penalty  wicket_type  \\\n",
       "0      0    NaN      NaN   NaN      NaN      NaN          NaN   \n",
       "1      0    NaN      NaN   NaN      NaN      NaN          NaN   \n",
       "2      0    NaN      NaN   NaN      NaN      NaN          NaN   \n",
       "3      0    NaN      NaN   NaN      NaN      NaN          NaN   \n",
       "4      0    NaN      NaN   NaN      NaN      NaN          NaN   \n",
       "\n",
       "   player_dismissed other_wicket_type other_player_dismissed  \n",
       "0               NaN               NaN                    NaN  \n",
       "1               NaN               NaN                    NaN  \n",
       "2               NaN               NaN                    NaN  \n",
       "3               NaN               NaN                    NaN  \n",
       "4               NaN               NaN                    NaN  \n",
       "\n",
       "[5 rows x 22 columns]"
      ]
     },
     "execution_count": 11,
     "metadata": {},
     "output_type": "execute_result"
    }
   ],
   "source": [
    "# sneak peak\n",
    "df.head()"
   ]
  }
 ],
 "metadata": {
  "hide_input": false,
  "kernelspec": {
   "display_name": "Python 3 (ipykernel)",
   "language": "python",
   "name": "python3"
  },
  "language_info": {
   "codemirror_mode": {
    "name": "ipython",
    "version": 3
   },
   "file_extension": ".py",
   "mimetype": "text/x-python",
   "name": "python",
   "nbconvert_exporter": "python",
   "pygments_lexer": "ipython3",
   "version": "3.9.7"
  }
 },
 "nbformat": 4,
 "nbformat_minor": 2
}
