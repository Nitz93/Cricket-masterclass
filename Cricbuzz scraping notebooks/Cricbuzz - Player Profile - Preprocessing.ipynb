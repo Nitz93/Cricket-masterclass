{
 "cells": [
  {
   "cell_type": "code",
   "execution_count": 1,
   "id": "fd3e7e1d",
   "metadata": {},
   "outputs": [],
   "source": [
    "import time\n",
    "import difflib\n",
    "import numpy as np\n",
    "import pandas as pd\n",
    "\n",
    "import warnings\n",
    "warnings.filterwarnings('ignore')\n",
    "\n",
    "#to display all rows columns \n",
    "pd.set_option('display.max_rows', None)\n",
    "pd.set_option('display.max_columns', None)  \n",
    "pd.set_option('display.expand_frame_repr', False)\n",
    "pd.set_option('max_colwidth', -1)"
   ]
  },
  {
   "cell_type": "code",
   "execution_count": 2,
   "id": "cc9ead30",
   "metadata": {},
   "outputs": [
    {
     "data": {
      "text/plain": [
       "13335"
      ]
     },
     "execution_count": 2,
     "metadata": {},
     "output_type": "execute_result"
    }
   ],
   "source": [
    "len(pd.read_csv('raw_playerprofile_dataset.csv'))"
   ]
  },
  {
   "cell_type": "code",
   "execution_count": 3,
   "id": "c66625f5",
   "metadata": {},
   "outputs": [],
   "source": [
    "df = pd.read_csv('raw_playerprofile_dataset.csv')"
   ]
  },
  {
   "cell_type": "code",
   "execution_count": 4,
   "id": "503cca01",
   "metadata": {},
   "outputs": [],
   "source": [
    "all_roles = list(df.role.unique())\n",
    "\n",
    "standard_roles = [' Batsman ', ' -- ', ' Bowler ', ' Captain ',\n",
    "                  ' Batting Allrounder ', ' WK-Batsman ', \n",
    "                  ' Bowling Allrounder ', ' Vice captain ']\n",
    "\n",
    "misaligned_roles = [i for i in all_roles if i not in standard_roles ]"
   ]
  },
  {
   "cell_type": "code",
   "execution_count": 5,
   "id": "993b2571",
   "metadata": {},
   "outputs": [],
   "source": [
    "# for all misaligned roles\n",
    "df['birth_place'] = df.apply(lambda x: x['height'] if x['role'] in misaligned_roles else x['birth_place'], axis = 1) \n",
    "df['height'] = df.apply(lambda x: x['role'] if x['role'] in misaligned_roles else x['height'], axis = 1) \n",
    "df['role'] = df.apply(lambda x: x['bat_style'] if x['role'] in misaligned_roles else x['role'], axis = 1) \n",
    "df['bat_style'] = df.apply(lambda x: x['bowl_style'] if x['role'] in misaligned_roles else x['bat_style'], axis = 1) \n",
    "\n",
    "# bat - bowl style misaligned\n",
    "df['bowl_style'] = df['bowl_style'].apply(lambda x: x if (x[:6] == ' Right') | (x[:6] == ' Left-') else ' -- ' )\n",
    "df['bat_style'] = df.apply(lambda x: x['bowl_style'] if x['bowl_style'] == ' Right Handed Bat ' else x['bat_style'], axis = 1)\n",
    "df['bowl_style'] = df.apply(lambda x: ' -- ' if ((x['bat_style'] == ' Right Handed Bat ') & (x['bowl_style'] == ' Right Handed Bat ')) else x['bowl_style'], axis = 1)"
   ]
  },
  {
   "cell_type": "code",
   "execution_count": 6,
   "id": "eed4faa3",
   "metadata": {},
   "outputs": [
    {
     "data": {
      "text/html": [
       "<div>\n",
       "<style scoped>\n",
       "    .dataframe tbody tr th:only-of-type {\n",
       "        vertical-align: middle;\n",
       "    }\n",
       "\n",
       "    .dataframe tbody tr th {\n",
       "        vertical-align: top;\n",
       "    }\n",
       "\n",
       "    .dataframe thead th {\n",
       "        text-align: right;\n",
       "    }\n",
       "</style>\n",
       "<table border=\"1\" class=\"dataframe\">\n",
       "  <thead>\n",
       "    <tr style=\"text-align: right;\">\n",
       "      <th></th>\n",
       "      <th>player_id</th>\n",
       "      <th>player</th>\n",
       "      <th>img_url</th>\n",
       "      <th>born</th>\n",
       "      <th>birth_place</th>\n",
       "      <th>height</th>\n",
       "      <th>role</th>\n",
       "      <th>bat_style</th>\n",
       "      <th>bowl_style</th>\n",
       "    </tr>\n",
       "  </thead>\n",
       "  <tbody>\n",
       "    <tr>\n",
       "      <th>0</th>\n",
       "      <td>25</td>\n",
       "      <td>Sachin Tendulkar</td>\n",
       "      <td>/a/img/v1/152x152/i1/c171004/sachin-tendulkar.jpg</td>\n",
       "      <td>Apr 24, 1973 (48 years)</td>\n",
       "      <td>Bombay (now Mumbai), Maharashtra</td>\n",
       "      <td>5 ft 5 in</td>\n",
       "      <td>Batsman</td>\n",
       "      <td>Right Handed Bat</td>\n",
       "      <td>Right-arm legbreak</td>\n",
       "    </tr>\n",
       "    <tr>\n",
       "      <th>1</th>\n",
       "      <td>26</td>\n",
       "      <td>Virender Sehwag</td>\n",
       "      <td>/a/img/v1/152x152/i1/c171002/virender-sehwag.jpg</td>\n",
       "      <td>Oct 20, 1978 (42 years)</td>\n",
       "      <td>Delhi</td>\n",
       "      <td>5 ft 8 in (173 cm)</td>\n",
       "      <td>Batsman</td>\n",
       "      <td>Right Handed Bat</td>\n",
       "      <td>Right-arm offbreak</td>\n",
       "    </tr>\n",
       "    <tr>\n",
       "      <th>2</th>\n",
       "      <td>27</td>\n",
       "      <td>Rahul Dravid</td>\n",
       "      <td>/a/img/v1/152x152/i1/c156286/rahul-dravid.jpg</td>\n",
       "      <td>Jan 11, 1973 (48 years)</td>\n",
       "      <td>Indore, Madhya Pradesh</td>\n",
       "      <td>--</td>\n",
       "      <td>Batsman</td>\n",
       "      <td>Right Handed Bat</td>\n",
       "      <td>Right-arm offbreak</td>\n",
       "    </tr>\n",
       "    <tr>\n",
       "      <th>3</th>\n",
       "      <td>28</td>\n",
       "      <td>VVS Laxman</td>\n",
       "      <td>/a/img/v1/152x152/i1/c156770/vvs-laxman.jpg</td>\n",
       "      <td>Nov 01, 1974 (46 years)</td>\n",
       "      <td>Hyderabad, Andhra Pradesh</td>\n",
       "      <td>--</td>\n",
       "      <td>--</td>\n",
       "      <td>Right Handed Bat</td>\n",
       "      <td>Right-arm offbreak</td>\n",
       "    </tr>\n",
       "    <tr>\n",
       "      <th>4</th>\n",
       "      <td>29</td>\n",
       "      <td>Sourav Ganguly</td>\n",
       "      <td>/a/img/v1/152x152/i1/c171006/sourav-ganguly.jpg</td>\n",
       "      <td>Jul 08, 1972 (49 years)</td>\n",
       "      <td>Calcutta (now Kolkata), Bengal</td>\n",
       "      <td>5 ft 11 in</td>\n",
       "      <td>Batsman</td>\n",
       "      <td>Left Handed Bat</td>\n",
       "      <td>Right-arm medium</td>\n",
       "    </tr>\n",
       "  </tbody>\n",
       "</table>\n",
       "</div>"
      ],
      "text/plain": [
       "   player_id            player                                            img_url                       born                         birth_place                height       role           bat_style            bowl_style\n",
       "0  25         Sachin Tendulkar  /a/img/v1/152x152/i1/c171004/sachin-tendulkar.jpg   Apr 24, 1973 (48 years)    Bombay (now Mumbai), Maharashtra    5 ft 5 in             Batsman    Right Handed Bat    Right-arm legbreak \n",
       "1  26         Virender Sehwag   /a/img/v1/152x152/i1/c171002/virender-sehwag.jpg    Oct 20, 1978 (42 years)    Delhi                               5 ft 8 in (173 cm)    Batsman    Right Handed Bat    Right-arm offbreak \n",
       "2  27         Rahul Dravid      /a/img/v1/152x152/i1/c156286/rahul-dravid.jpg       Jan 11, 1973 (48 years)    Indore, Madhya Pradesh              --                    Batsman    Right Handed Bat    Right-arm offbreak \n",
       "3  28         VVS Laxman        /a/img/v1/152x152/i1/c156770/vvs-laxman.jpg         Nov 01, 1974 (46 years)    Hyderabad, Andhra Pradesh           --                    --         Right Handed Bat    Right-arm offbreak \n",
       "4  29         Sourav Ganguly    /a/img/v1/152x152/i1/c171006/sourav-ganguly.jpg     Jul 08, 1972 (49 years)    Calcutta (now Kolkata), Bengal      5 ft 11 in            Batsman    Left Handed Bat     Right-arm medium   "
      ]
     },
     "execution_count": 6,
     "metadata": {},
     "output_type": "execute_result"
    }
   ],
   "source": [
    "df.head()"
   ]
  },
  {
   "cell_type": "code",
   "execution_count": 7,
   "id": "5899e66e",
   "metadata": {},
   "outputs": [
    {
     "data": {
      "text/plain": [
       "array([' Right Handed Bat ', ' Left Handed Bat ', ' Batsman ',\n",
       "       ' Bowling Allrounder ', ' -- '], dtype=object)"
      ]
     },
     "execution_count": 7,
     "metadata": {},
     "output_type": "execute_result"
    }
   ],
   "source": [
    "df.bat_style.unique()"
   ]
  },
  {
   "cell_type": "code",
   "execution_count": 8,
   "id": "1bc44ad6",
   "metadata": {},
   "outputs": [
    {
     "data": {
      "text/plain": [
       "array([' Right-arm legbreak ', ' Right-arm offbreak ',\n",
       "       ' Right-arm medium ', ' Right-arm fast ',\n",
       "       ' Right-arm fast-medium ', ' Left-arm orthodox ', ' -- ',\n",
       "       ' Left-arm fast-medium ', ' Left-arm chinaman ',\n",
       "       ' Left-arm medium ', ' Left-arm fast '], dtype=object)"
      ]
     },
     "execution_count": 8,
     "metadata": {},
     "output_type": "execute_result"
    }
   ],
   "source": [
    "df.bowl_style.unique()"
   ]
  },
  {
   "cell_type": "code",
   "execution_count": null,
   "id": "ecbd4da4",
   "metadata": {},
   "outputs": [],
   "source": []
  },
  {
   "cell_type": "code",
   "execution_count": 9,
   "id": "de07506c",
   "metadata": {},
   "outputs": [],
   "source": [
    "# cricsheet data - ex: ipl, t20i"
   ]
  },
  {
   "cell_type": "code",
   "execution_count": 10,
   "id": "f2220aba",
   "metadata": {},
   "outputs": [],
   "source": [
    "ipl_df = pd.read_csv(\"IPL_ball_by_ball_updated.csv\")\n",
    "t20i_df = pd.read_csv(\"T20I_ball_by_ball_updated.csv\")"
   ]
  },
  {
   "cell_type": "code",
   "execution_count": 11,
   "id": "3c03d99e",
   "metadata": {},
   "outputs": [],
   "source": [
    "# striker, non-striker, bowler\n",
    "strikers = list(ipl_df.striker.unique()) + list(t20i_df.striker.unique())\n",
    "non_strikers = list(ipl_df.non_striker.unique()) + list(t20i_df.non_striker.unique())\n",
    "bowler = list(ipl_df.bowler.unique()) + list(t20i_df.bowler.unique())\n",
    "\n",
    "all_players = set(strikers).union(set(non_strikers)).union(set(bowler))"
   ]
  },
  {
   "cell_type": "code",
   "execution_count": 14,
   "id": "cbdc471f",
   "metadata": {},
   "outputs": [
    {
     "data": {
      "text/html": [
       "<div>\n",
       "<style scoped>\n",
       "    .dataframe tbody tr th:only-of-type {\n",
       "        vertical-align: middle;\n",
       "    }\n",
       "\n",
       "    .dataframe tbody tr th {\n",
       "        vertical-align: top;\n",
       "    }\n",
       "\n",
       "    .dataframe thead th {\n",
       "        text-align: right;\n",
       "    }\n",
       "</style>\n",
       "<table border=\"1\" class=\"dataframe\">\n",
       "  <thead>\n",
       "    <tr style=\"text-align: right;\">\n",
       "      <th></th>\n",
       "      <th>player_id</th>\n",
       "      <th>player</th>\n",
       "      <th>img_url</th>\n",
       "      <th>born</th>\n",
       "      <th>birth_place</th>\n",
       "      <th>height</th>\n",
       "      <th>role</th>\n",
       "      <th>bat_style</th>\n",
       "      <th>bowl_style</th>\n",
       "    </tr>\n",
       "  </thead>\n",
       "  <tbody>\n",
       "    <tr>\n",
       "      <th>0</th>\n",
       "      <td>25</td>\n",
       "      <td>Sachin Tendulkar</td>\n",
       "      <td>/a/img/v1/152x152/i1/c171004/sachin-tendulkar.jpg</td>\n",
       "      <td>Apr 24, 1973 (48 years)</td>\n",
       "      <td>Bombay (now Mumbai), Maharashtra</td>\n",
       "      <td>5 ft 5 in</td>\n",
       "      <td>Batsman</td>\n",
       "      <td>Right Handed Bat</td>\n",
       "      <td>Right-arm legbreak</td>\n",
       "    </tr>\n",
       "    <tr>\n",
       "      <th>1</th>\n",
       "      <td>26</td>\n",
       "      <td>Virender Sehwag</td>\n",
       "      <td>/a/img/v1/152x152/i1/c171002/virender-sehwag.jpg</td>\n",
       "      <td>Oct 20, 1978 (42 years)</td>\n",
       "      <td>Delhi</td>\n",
       "      <td>5 ft 8 in (173 cm)</td>\n",
       "      <td>Batsman</td>\n",
       "      <td>Right Handed Bat</td>\n",
       "      <td>Right-arm offbreak</td>\n",
       "    </tr>\n",
       "    <tr>\n",
       "      <th>2</th>\n",
       "      <td>27</td>\n",
       "      <td>Rahul Dravid</td>\n",
       "      <td>/a/img/v1/152x152/i1/c156286/rahul-dravid.jpg</td>\n",
       "      <td>Jan 11, 1973 (48 years)</td>\n",
       "      <td>Indore, Madhya Pradesh</td>\n",
       "      <td>--</td>\n",
       "      <td>Batsman</td>\n",
       "      <td>Right Handed Bat</td>\n",
       "      <td>Right-arm offbreak</td>\n",
       "    </tr>\n",
       "    <tr>\n",
       "      <th>3</th>\n",
       "      <td>28</td>\n",
       "      <td>VVS Laxman</td>\n",
       "      <td>/a/img/v1/152x152/i1/c156770/vvs-laxman.jpg</td>\n",
       "      <td>Nov 01, 1974 (46 years)</td>\n",
       "      <td>Hyderabad, Andhra Pradesh</td>\n",
       "      <td>--</td>\n",
       "      <td>--</td>\n",
       "      <td>Right Handed Bat</td>\n",
       "      <td>Right-arm offbreak</td>\n",
       "    </tr>\n",
       "    <tr>\n",
       "      <th>4</th>\n",
       "      <td>29</td>\n",
       "      <td>Sourav Ganguly</td>\n",
       "      <td>/a/img/v1/152x152/i1/c171006/sourav-ganguly.jpg</td>\n",
       "      <td>Jul 08, 1972 (49 years)</td>\n",
       "      <td>Calcutta (now Kolkata), Bengal</td>\n",
       "      <td>5 ft 11 in</td>\n",
       "      <td>Batsman</td>\n",
       "      <td>Left Handed Bat</td>\n",
       "      <td>Right-arm medium</td>\n",
       "    </tr>\n",
       "  </tbody>\n",
       "</table>\n",
       "</div>"
      ],
      "text/plain": [
       "   player_id            player                                            img_url                       born                         birth_place                height       role           bat_style            bowl_style\n",
       "0  25         Sachin Tendulkar  /a/img/v1/152x152/i1/c171004/sachin-tendulkar.jpg   Apr 24, 1973 (48 years)    Bombay (now Mumbai), Maharashtra    5 ft 5 in             Batsman    Right Handed Bat    Right-arm legbreak \n",
       "1  26         Virender Sehwag   /a/img/v1/152x152/i1/c171002/virender-sehwag.jpg    Oct 20, 1978 (42 years)    Delhi                               5 ft 8 in (173 cm)    Batsman    Right Handed Bat    Right-arm offbreak \n",
       "2  27         Rahul Dravid      /a/img/v1/152x152/i1/c156286/rahul-dravid.jpg       Jan 11, 1973 (48 years)    Indore, Madhya Pradesh              --                    Batsman    Right Handed Bat    Right-arm offbreak \n",
       "3  28         VVS Laxman        /a/img/v1/152x152/i1/c156770/vvs-laxman.jpg         Nov 01, 1974 (46 years)    Hyderabad, Andhra Pradesh           --                    --         Right Handed Bat    Right-arm offbreak \n",
       "4  29         Sourav Ganguly    /a/img/v1/152x152/i1/c171006/sourav-ganguly.jpg     Jul 08, 1972 (49 years)    Calcutta (now Kolkata), Bengal      5 ft 11 in            Batsman    Left Handed Bat     Right-arm medium   "
      ]
     },
     "execution_count": 14,
     "metadata": {},
     "output_type": "execute_result"
    }
   ],
   "source": [
    "df.head()"
   ]
  },
  {
   "cell_type": "code",
   "execution_count": 13,
   "id": "78071397",
   "metadata": {},
   "outputs": [
    {
     "data": {
      "text/plain": [
       "'SR Tendulkar'"
      ]
     },
     "execution_count": 13,
     "metadata": {},
     "output_type": "execute_result"
    }
   ],
   "source": [
    "# sample closest name: cricbuzz vs cricinfo\n",
    "difflib.get_close_matches(df.player[0], all_players)[0]"
   ]
  },
  {
   "cell_type": "code",
   "execution_count": 15,
   "id": "aac6a032",
   "metadata": {},
   "outputs": [
    {
     "name": "stdout",
     "output_type": "stream",
     "text": [
      "164.9946792125702\n"
     ]
    }
   ],
   "source": [
    "s = time.time()\n",
    "df['closest_cricsheet_names'] = df['player'].apply(lambda x: difflib.get_close_matches(x, all_players))\n",
    "e = time.time()\n",
    "\n",
    "print(e-s)"
   ]
  },
  {
   "cell_type": "code",
   "execution_count": 16,
   "id": "399b1b30",
   "metadata": {},
   "outputs": [
    {
     "data": {
      "text/html": [
       "<div>\n",
       "<style scoped>\n",
       "    .dataframe tbody tr th:only-of-type {\n",
       "        vertical-align: middle;\n",
       "    }\n",
       "\n",
       "    .dataframe tbody tr th {\n",
       "        vertical-align: top;\n",
       "    }\n",
       "\n",
       "    .dataframe thead th {\n",
       "        text-align: right;\n",
       "    }\n",
       "</style>\n",
       "<table border=\"1\" class=\"dataframe\">\n",
       "  <thead>\n",
       "    <tr style=\"text-align: right;\">\n",
       "      <th></th>\n",
       "      <th>player_id</th>\n",
       "      <th>player</th>\n",
       "      <th>img_url</th>\n",
       "      <th>born</th>\n",
       "      <th>birth_place</th>\n",
       "      <th>height</th>\n",
       "      <th>role</th>\n",
       "      <th>bat_style</th>\n",
       "      <th>bowl_style</th>\n",
       "      <th>closest_cricsheet_names</th>\n",
       "    </tr>\n",
       "  </thead>\n",
       "  <tbody>\n",
       "    <tr>\n",
       "      <th>0</th>\n",
       "      <td>25</td>\n",
       "      <td>Sachin Tendulkar</td>\n",
       "      <td>/a/img/v1/152x152/i1/c171004/sachin-tendulkar.jpg</td>\n",
       "      <td>Apr 24, 1973 (48 years)</td>\n",
       "      <td>Bombay (now Mumbai), Maharashtra</td>\n",
       "      <td>5 ft 5 in</td>\n",
       "      <td>Batsman</td>\n",
       "      <td>Right Handed Bat</td>\n",
       "      <td>Right-arm legbreak</td>\n",
       "      <td>[SR Tendulkar]</td>\n",
       "    </tr>\n",
       "    <tr>\n",
       "      <th>1</th>\n",
       "      <td>26</td>\n",
       "      <td>Virender Sehwag</td>\n",
       "      <td>/a/img/v1/152x152/i1/c171002/virender-sehwag.jpg</td>\n",
       "      <td>Oct 20, 1978 (42 years)</td>\n",
       "      <td>Delhi</td>\n",
       "      <td>5 ft 8 in (173 cm)</td>\n",
       "      <td>Batsman</td>\n",
       "      <td>Right Handed Bat</td>\n",
       "      <td>Right-arm offbreak</td>\n",
       "      <td>[V Sehwag, Virandeep Singh, Joginder Sharma]</td>\n",
       "    </tr>\n",
       "    <tr>\n",
       "      <th>2</th>\n",
       "      <td>27</td>\n",
       "      <td>Rahul Dravid</td>\n",
       "      <td>/a/img/v1/152x152/i1/c156286/rahul-dravid.jpg</td>\n",
       "      <td>Jan 11, 1973 (48 years)</td>\n",
       "      <td>Indore, Madhya Pradesh</td>\n",
       "      <td>--</td>\n",
       "      <td>Batsman</td>\n",
       "      <td>Right Handed Bat</td>\n",
       "      <td>Right-arm offbreak</td>\n",
       "      <td>[R Dravid, TH David, H Davids]</td>\n",
       "    </tr>\n",
       "    <tr>\n",
       "      <th>3</th>\n",
       "      <td>28</td>\n",
       "      <td>VVS Laxman</td>\n",
       "      <td>/a/img/v1/152x152/i1/c156770/vvs-laxman.jpg</td>\n",
       "      <td>Nov 01, 1974 (46 years)</td>\n",
       "      <td>Hyderabad, Andhra Pradesh</td>\n",
       "      <td>--</td>\n",
       "      <td>--</td>\n",
       "      <td>Right Handed Bat</td>\n",
       "      <td>Right-arm offbreak</td>\n",
       "      <td>[VVS Laxman, S Lomani, S Lamichhane]</td>\n",
       "    </tr>\n",
       "    <tr>\n",
       "      <th>4</th>\n",
       "      <td>29</td>\n",
       "      <td>Sourav Ganguly</td>\n",
       "      <td>/a/img/v1/152x152/i1/c171006/sourav-ganguly.jpg</td>\n",
       "      <td>Jul 08, 1972 (49 years)</td>\n",
       "      <td>Calcutta (now Kolkata), Bengal</td>\n",
       "      <td>5 ft 11 in</td>\n",
       "      <td>Batsman</td>\n",
       "      <td>Left Handed Bat</td>\n",
       "      <td>Right-arm medium</td>\n",
       "      <td>[SC Ganguly]</td>\n",
       "    </tr>\n",
       "  </tbody>\n",
       "</table>\n",
       "</div>"
      ],
      "text/plain": [
       "   player_id            player                                            img_url                       born                         birth_place                height       role           bat_style            bowl_style                       closest_cricsheet_names\n",
       "0  25         Sachin Tendulkar  /a/img/v1/152x152/i1/c171004/sachin-tendulkar.jpg   Apr 24, 1973 (48 years)    Bombay (now Mumbai), Maharashtra    5 ft 5 in             Batsman    Right Handed Bat    Right-arm legbreak   [SR Tendulkar]                              \n",
       "1  26         Virender Sehwag   /a/img/v1/152x152/i1/c171002/virender-sehwag.jpg    Oct 20, 1978 (42 years)    Delhi                               5 ft 8 in (173 cm)    Batsman    Right Handed Bat    Right-arm offbreak   [V Sehwag, Virandeep Singh, Joginder Sharma]\n",
       "2  27         Rahul Dravid      /a/img/v1/152x152/i1/c156286/rahul-dravid.jpg       Jan 11, 1973 (48 years)    Indore, Madhya Pradesh              --                    Batsman    Right Handed Bat    Right-arm offbreak   [R Dravid, TH David, H Davids]              \n",
       "3  28         VVS Laxman        /a/img/v1/152x152/i1/c156770/vvs-laxman.jpg         Nov 01, 1974 (46 years)    Hyderabad, Andhra Pradesh           --                    --         Right Handed Bat    Right-arm offbreak   [VVS Laxman, S Lomani, S Lamichhane]        \n",
       "4  29         Sourav Ganguly    /a/img/v1/152x152/i1/c171006/sourav-ganguly.jpg     Jul 08, 1972 (49 years)    Calcutta (now Kolkata), Bengal      5 ft 11 in            Batsman    Left Handed Bat     Right-arm medium     [SC Ganguly]                                "
      ]
     },
     "execution_count": 16,
     "metadata": {},
     "output_type": "execute_result"
    }
   ],
   "source": [
    "df.head()"
   ]
  },
  {
   "cell_type": "code",
   "execution_count": 17,
   "id": "598d95c8",
   "metadata": {},
   "outputs": [],
   "source": [
    "df['closest_cricsheet_name'] = df['closest_cricsheet_names'].apply(lambda x: x[0] if len(x) > 0 else ' -- ')"
   ]
  },
  {
   "cell_type": "code",
   "execution_count": 19,
   "id": "5136525b",
   "metadata": {},
   "outputs": [],
   "source": [
    "df['img_url'] = df['img_url'].apply(lambda x: 'cricbuzz.com' + x)"
   ]
  },
  {
   "cell_type": "code",
   "execution_count": 20,
   "id": "3a897dc7",
   "metadata": {},
   "outputs": [
    {
     "data": {
      "text/html": [
       "<div>\n",
       "<style scoped>\n",
       "    .dataframe tbody tr th:only-of-type {\n",
       "        vertical-align: middle;\n",
       "    }\n",
       "\n",
       "    .dataframe tbody tr th {\n",
       "        vertical-align: top;\n",
       "    }\n",
       "\n",
       "    .dataframe thead th {\n",
       "        text-align: right;\n",
       "    }\n",
       "</style>\n",
       "<table border=\"1\" class=\"dataframe\">\n",
       "  <thead>\n",
       "    <tr style=\"text-align: right;\">\n",
       "      <th></th>\n",
       "      <th>player_id</th>\n",
       "      <th>player</th>\n",
       "      <th>img_url</th>\n",
       "      <th>born</th>\n",
       "      <th>birth_place</th>\n",
       "      <th>height</th>\n",
       "      <th>role</th>\n",
       "      <th>bat_style</th>\n",
       "      <th>bowl_style</th>\n",
       "      <th>closest_cricsheet_names</th>\n",
       "      <th>closest_cricsheet_name</th>\n",
       "    </tr>\n",
       "  </thead>\n",
       "  <tbody>\n",
       "    <tr>\n",
       "      <th>0</th>\n",
       "      <td>25</td>\n",
       "      <td>Sachin Tendulkar</td>\n",
       "      <td>cricbuzz.com/a/img/v1/152x152/i1/c171004/sachin-tendulkar.jpg</td>\n",
       "      <td>Apr 24, 1973 (48 years)</td>\n",
       "      <td>Bombay (now Mumbai), Maharashtra</td>\n",
       "      <td>5 ft 5 in</td>\n",
       "      <td>Batsman</td>\n",
       "      <td>Right Handed Bat</td>\n",
       "      <td>Right-arm legbreak</td>\n",
       "      <td>[SR Tendulkar]</td>\n",
       "      <td>SR Tendulkar</td>\n",
       "    </tr>\n",
       "    <tr>\n",
       "      <th>1</th>\n",
       "      <td>26</td>\n",
       "      <td>Virender Sehwag</td>\n",
       "      <td>cricbuzz.com/a/img/v1/152x152/i1/c171002/virender-sehwag.jpg</td>\n",
       "      <td>Oct 20, 1978 (42 years)</td>\n",
       "      <td>Delhi</td>\n",
       "      <td>5 ft 8 in (173 cm)</td>\n",
       "      <td>Batsman</td>\n",
       "      <td>Right Handed Bat</td>\n",
       "      <td>Right-arm offbreak</td>\n",
       "      <td>[V Sehwag, Virandeep Singh, Joginder Sharma]</td>\n",
       "      <td>V Sehwag</td>\n",
       "    </tr>\n",
       "    <tr>\n",
       "      <th>2</th>\n",
       "      <td>27</td>\n",
       "      <td>Rahul Dravid</td>\n",
       "      <td>cricbuzz.com/a/img/v1/152x152/i1/c156286/rahul-dravid.jpg</td>\n",
       "      <td>Jan 11, 1973 (48 years)</td>\n",
       "      <td>Indore, Madhya Pradesh</td>\n",
       "      <td>--</td>\n",
       "      <td>Batsman</td>\n",
       "      <td>Right Handed Bat</td>\n",
       "      <td>Right-arm offbreak</td>\n",
       "      <td>[R Dravid, TH David, H Davids]</td>\n",
       "      <td>R Dravid</td>\n",
       "    </tr>\n",
       "    <tr>\n",
       "      <th>3</th>\n",
       "      <td>28</td>\n",
       "      <td>VVS Laxman</td>\n",
       "      <td>cricbuzz.com/a/img/v1/152x152/i1/c156770/vvs-laxman.jpg</td>\n",
       "      <td>Nov 01, 1974 (46 years)</td>\n",
       "      <td>Hyderabad, Andhra Pradesh</td>\n",
       "      <td>--</td>\n",
       "      <td>--</td>\n",
       "      <td>Right Handed Bat</td>\n",
       "      <td>Right-arm offbreak</td>\n",
       "      <td>[VVS Laxman, S Lomani, S Lamichhane]</td>\n",
       "      <td>VVS Laxman</td>\n",
       "    </tr>\n",
       "    <tr>\n",
       "      <th>4</th>\n",
       "      <td>29</td>\n",
       "      <td>Sourav Ganguly</td>\n",
       "      <td>cricbuzz.com/a/img/v1/152x152/i1/c171006/sourav-ganguly.jpg</td>\n",
       "      <td>Jul 08, 1972 (49 years)</td>\n",
       "      <td>Calcutta (now Kolkata), Bengal</td>\n",
       "      <td>5 ft 11 in</td>\n",
       "      <td>Batsman</td>\n",
       "      <td>Left Handed Bat</td>\n",
       "      <td>Right-arm medium</td>\n",
       "      <td>[SC Ganguly]</td>\n",
       "      <td>SC Ganguly</td>\n",
       "    </tr>\n",
       "  </tbody>\n",
       "</table>\n",
       "</div>"
      ],
      "text/plain": [
       "   player_id            player                                                        img_url                       born                         birth_place                height       role           bat_style            bowl_style                       closest_cricsheet_names closest_cricsheet_name\n",
       "0  25         Sachin Tendulkar  cricbuzz.com/a/img/v1/152x152/i1/c171004/sachin-tendulkar.jpg   Apr 24, 1973 (48 years)    Bombay (now Mumbai), Maharashtra    5 ft 5 in             Batsman    Right Handed Bat    Right-arm legbreak   [SR Tendulkar]                                SR Tendulkar         \n",
       "1  26         Virender Sehwag   cricbuzz.com/a/img/v1/152x152/i1/c171002/virender-sehwag.jpg    Oct 20, 1978 (42 years)    Delhi                               5 ft 8 in (173 cm)    Batsman    Right Handed Bat    Right-arm offbreak   [V Sehwag, Virandeep Singh, Joginder Sharma]  V Sehwag             \n",
       "2  27         Rahul Dravid      cricbuzz.com/a/img/v1/152x152/i1/c156286/rahul-dravid.jpg       Jan 11, 1973 (48 years)    Indore, Madhya Pradesh              --                    Batsman    Right Handed Bat    Right-arm offbreak   [R Dravid, TH David, H Davids]                R Dravid             \n",
       "3  28         VVS Laxman        cricbuzz.com/a/img/v1/152x152/i1/c156770/vvs-laxman.jpg         Nov 01, 1974 (46 years)    Hyderabad, Andhra Pradesh           --                    --         Right Handed Bat    Right-arm offbreak   [VVS Laxman, S Lomani, S Lamichhane]          VVS Laxman           \n",
       "4  29         Sourav Ganguly    cricbuzz.com/a/img/v1/152x152/i1/c171006/sourav-ganguly.jpg     Jul 08, 1972 (49 years)    Calcutta (now Kolkata), Bengal      5 ft 11 in            Batsman    Left Handed Bat     Right-arm medium     [SC Ganguly]                                  SC Ganguly           "
      ]
     },
     "execution_count": 20,
     "metadata": {},
     "output_type": "execute_result"
    }
   ],
   "source": [
    "df.head()"
   ]
  },
  {
   "cell_type": "code",
   "execution_count": 21,
   "id": "1eb3fb90",
   "metadata": {},
   "outputs": [],
   "source": [
    "# df.to_csv('players_dump_updated.csv', index = False)"
   ]
  },
  {
   "cell_type": "code",
   "execution_count": null,
   "id": "985f00a2",
   "metadata": {},
   "outputs": [],
   "source": []
  }
 ],
 "metadata": {
  "hide_input": false,
  "kernelspec": {
   "display_name": "Python 3 (ipykernel)",
   "language": "python",
   "name": "python3"
  },
  "language_info": {
   "codemirror_mode": {
    "name": "ipython",
    "version": 3
   },
   "file_extension": ".py",
   "mimetype": "text/x-python",
   "name": "python",
   "nbconvert_exporter": "python",
   "pygments_lexer": "ipython3",
   "version": "3.9.7"
  }
 },
 "nbformat": 4,
 "nbformat_minor": 5
}
