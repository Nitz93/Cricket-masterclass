{
 "cells": [
  {
   "cell_type": "code",
   "execution_count": 1,
   "id": "ac7f08aa",
   "metadata": {},
   "outputs": [],
   "source": [
    "import pandas as pd"
   ]
  },
  {
   "cell_type": "code",
   "execution_count": 2,
   "id": "9003ae30",
   "metadata": {},
   "outputs": [],
   "source": [
    "df = pd.read_csv('../CSV Files/raw_playerprofile_dataset.csv')"
   ]
  },
  {
   "cell_type": "code",
   "execution_count": 3,
   "id": "50f87801",
   "metadata": {},
   "outputs": [
    {
     "data": {
      "text/html": [
       "<div>\n",
       "<style scoped>\n",
       "    .dataframe tbody tr th:only-of-type {\n",
       "        vertical-align: middle;\n",
       "    }\n",
       "\n",
       "    .dataframe tbody tr th {\n",
       "        vertical-align: top;\n",
       "    }\n",
       "\n",
       "    .dataframe thead th {\n",
       "        text-align: right;\n",
       "    }\n",
       "</style>\n",
       "<table border=\"1\" class=\"dataframe\">\n",
       "  <thead>\n",
       "    <tr style=\"text-align: right;\">\n",
       "      <th></th>\n",
       "      <th>player_id</th>\n",
       "      <th>player</th>\n",
       "      <th>img_url</th>\n",
       "      <th>born</th>\n",
       "      <th>birth_place</th>\n",
       "      <th>height</th>\n",
       "      <th>role</th>\n",
       "      <th>bat_style</th>\n",
       "      <th>bowl_style</th>\n",
       "    </tr>\n",
       "  </thead>\n",
       "  <tbody>\n",
       "    <tr>\n",
       "      <th>0</th>\n",
       "      <td>25</td>\n",
       "      <td>Sachin Tendulkar</td>\n",
       "      <td>/a/img/v1/152x152/i1/c171004/sachin-tendulkar.jpg</td>\n",
       "      <td>Apr 24, 1973 (48 years)</td>\n",
       "      <td>Bombay (now Mumbai), Maharashtra</td>\n",
       "      <td>5 ft 5 in</td>\n",
       "      <td>Batsman</td>\n",
       "      <td>Right Handed Bat</td>\n",
       "      <td>Right-arm legbreak</td>\n",
       "    </tr>\n",
       "    <tr>\n",
       "      <th>1</th>\n",
       "      <td>26</td>\n",
       "      <td>Virender Sehwag</td>\n",
       "      <td>/a/img/v1/152x152/i1/c171002/virender-sehwag.jpg</td>\n",
       "      <td>Oct 20, 1978 (42 years)</td>\n",
       "      <td>Delhi</td>\n",
       "      <td>5 ft 8 in (173 cm)</td>\n",
       "      <td>Batsman</td>\n",
       "      <td>Right Handed Bat</td>\n",
       "      <td>Right-arm offbreak</td>\n",
       "    </tr>\n",
       "    <tr>\n",
       "      <th>2</th>\n",
       "      <td>27</td>\n",
       "      <td>Rahul Dravid</td>\n",
       "      <td>/a/img/v1/152x152/i1/c156286/rahul-dravid.jpg</td>\n",
       "      <td>Jan 11, 1973 (48 years)</td>\n",
       "      <td>Indore, Madhya Pradesh</td>\n",
       "      <td>--</td>\n",
       "      <td>Batsman</td>\n",
       "      <td>Right Handed Bat</td>\n",
       "      <td>Right-arm offbreak</td>\n",
       "    </tr>\n",
       "    <tr>\n",
       "      <th>3</th>\n",
       "      <td>28</td>\n",
       "      <td>VVS Laxman</td>\n",
       "      <td>/a/img/v1/152x152/i1/c156770/vvs-laxman.jpg</td>\n",
       "      <td>Nov 01, 1974 (46 years)</td>\n",
       "      <td>Hyderabad, Andhra Pradesh</td>\n",
       "      <td>--</td>\n",
       "      <td>--</td>\n",
       "      <td>Right Handed Bat</td>\n",
       "      <td>Right-arm offbreak</td>\n",
       "    </tr>\n",
       "    <tr>\n",
       "      <th>4</th>\n",
       "      <td>29</td>\n",
       "      <td>Sourav Ganguly</td>\n",
       "      <td>/a/img/v1/152x152/i1/c171006/sourav-ganguly.jpg</td>\n",
       "      <td>Jul 08, 1972 (49 years)</td>\n",
       "      <td>Calcutta (now Kolkata), Bengal</td>\n",
       "      <td>5 ft 11 in</td>\n",
       "      <td>Batsman</td>\n",
       "      <td>Left Handed Bat</td>\n",
       "      <td>Right-arm medium</td>\n",
       "    </tr>\n",
       "  </tbody>\n",
       "</table>\n",
       "</div>"
      ],
      "text/plain": [
       "   player_id            player  \\\n",
       "0         25  Sachin Tendulkar   \n",
       "1         26   Virender Sehwag   \n",
       "2         27      Rahul Dravid   \n",
       "3         28        VVS Laxman   \n",
       "4         29    Sourav Ganguly   \n",
       "\n",
       "                                             img_url  \\\n",
       "0  /a/img/v1/152x152/i1/c171004/sachin-tendulkar.jpg   \n",
       "1   /a/img/v1/152x152/i1/c171002/virender-sehwag.jpg   \n",
       "2      /a/img/v1/152x152/i1/c156286/rahul-dravid.jpg   \n",
       "3        /a/img/v1/152x152/i1/c156770/vvs-laxman.jpg   \n",
       "4    /a/img/v1/152x152/i1/c171006/sourav-ganguly.jpg   \n",
       "\n",
       "                        born                         birth_place  \\\n",
       "0   Apr 24, 1973 (48 years)    Bombay (now Mumbai), Maharashtra    \n",
       "1   Oct 20, 1978 (42 years)                               Delhi    \n",
       "2   Jan 11, 1973 (48 years)              Indore, Madhya Pradesh    \n",
       "3   Nov 01, 1974 (46 years)           Hyderabad, Andhra Pradesh    \n",
       "4   Jul 08, 1972 (49 years)      Calcutta (now Kolkata), Bengal    \n",
       "\n",
       "                 height       role           bat_style            bowl_style  \n",
       "0            5 ft 5 in    Batsman    Right Handed Bat    Right-arm legbreak   \n",
       "1   5 ft 8 in (173 cm)    Batsman    Right Handed Bat    Right-arm offbreak   \n",
       "2                   --    Batsman    Right Handed Bat    Right-arm offbreak   \n",
       "3                   --         --    Right Handed Bat    Right-arm offbreak   \n",
       "4           5 ft 11 in    Batsman     Left Handed Bat      Right-arm medium   "
      ]
     },
     "execution_count": 3,
     "metadata": {},
     "output_type": "execute_result"
    }
   ],
   "source": [
    "df.head()"
   ]
  },
  {
   "cell_type": "code",
   "execution_count": 4,
   "id": "24bd0a2a",
   "metadata": {},
   "outputs": [],
   "source": [
    "df1 = pd.read_csv('../CSV Files/raw_playerprofile_dataset_part2.csv')"
   ]
  },
  {
   "cell_type": "code",
   "execution_count": 5,
   "id": "bc124111",
   "metadata": {},
   "outputs": [
    {
     "data": {
      "text/html": [
       "<div>\n",
       "<style scoped>\n",
       "    .dataframe tbody tr th:only-of-type {\n",
       "        vertical-align: middle;\n",
       "    }\n",
       "\n",
       "    .dataframe tbody tr th {\n",
       "        vertical-align: top;\n",
       "    }\n",
       "\n",
       "    .dataframe thead th {\n",
       "        text-align: right;\n",
       "    }\n",
       "</style>\n",
       "<table border=\"1\" class=\"dataframe\">\n",
       "  <thead>\n",
       "    <tr style=\"text-align: right;\">\n",
       "      <th></th>\n",
       "      <th>player_id</th>\n",
       "      <th>player</th>\n",
       "      <th>img_url</th>\n",
       "      <th>born</th>\n",
       "      <th>birth_place</th>\n",
       "      <th>height</th>\n",
       "      <th>role</th>\n",
       "      <th>bat_style</th>\n",
       "      <th>bowl_style</th>\n",
       "    </tr>\n",
       "  </thead>\n",
       "  <tbody>\n",
       "    <tr>\n",
       "      <th>0</th>\n",
       "      <td>20002</td>\n",
       "      <td>Isabel van der Woning</td>\n",
       "      <td>/a/img/v1/152x152/i1/c182026/isabel-van-der-wo...</td>\n",
       "      <td>--</td>\n",
       "      <td>--</td>\n",
       "      <td>--</td>\n",
       "      <td>Bowling Allrounder</td>\n",
       "      <td>Right Handed Bat</td>\n",
       "      <td>Right-arm medium</td>\n",
       "    </tr>\n",
       "    <tr>\n",
       "      <th>1</th>\n",
       "      <td>20006</td>\n",
       "      <td>Jasmine Naeem</td>\n",
       "      <td>/a/img/v1/152x152/i1/c182026/jasmine-naeem.jpg</td>\n",
       "      <td>--</td>\n",
       "      <td>--</td>\n",
       "      <td>--</td>\n",
       "      <td>--</td>\n",
       "      <td>Right Handed Bat</td>\n",
       "      <td>England</td>\n",
       "    </tr>\n",
       "    <tr>\n",
       "      <th>2</th>\n",
       "      <td>20011</td>\n",
       "      <td>Toby Greatwood</td>\n",
       "      <td>/a/img/v1/152x152/i1/c182026/toby-greatwood.jpg</td>\n",
       "      <td>Oct 21, 2001 (20 years)</td>\n",
       "      <td>High Wycombe, Buckinghamshire</td>\n",
       "      <td>--</td>\n",
       "      <td>--</td>\n",
       "      <td>Right Handed Bat</td>\n",
       "      <td>Right-arm medium</td>\n",
       "    </tr>\n",
       "    <tr>\n",
       "      <th>3</th>\n",
       "      <td>20012</td>\n",
       "      <td>Max Harris</td>\n",
       "      <td>/a/img/v1/152x152/i1/c182026/max-harris.jpg</td>\n",
       "      <td>Aug 17, 2001 (20 years)</td>\n",
       "      <td>London</td>\n",
       "      <td>--</td>\n",
       "      <td>--</td>\n",
       "      <td>Right Handed Bat</td>\n",
       "      <td>Right-arm fast-medium</td>\n",
       "    </tr>\n",
       "    <tr>\n",
       "      <th>4</th>\n",
       "      <td>20016</td>\n",
       "      <td>Ben Wells</td>\n",
       "      <td>/a/img/v1/152x152/i1/c182026/ben-wells.jpg</td>\n",
       "      <td>Jul 30, 2000 (21 years)</td>\n",
       "      <td>Bath, Somerset, England</td>\n",
       "      <td>--</td>\n",
       "      <td>WK-Batsman</td>\n",
       "      <td>Right Handed Bat</td>\n",
       "      <td>Gloucestershire</td>\n",
       "    </tr>\n",
       "  </tbody>\n",
       "</table>\n",
       "</div>"
      ],
      "text/plain": [
       "   player_id                 player  \\\n",
       "0      20002  Isabel van der Woning   \n",
       "1      20006          Jasmine Naeem   \n",
       "2      20011         Toby Greatwood   \n",
       "3      20012             Max Harris   \n",
       "4      20016              Ben Wells   \n",
       "\n",
       "                                             img_url  \\\n",
       "0  /a/img/v1/152x152/i1/c182026/isabel-van-der-wo...   \n",
       "1     /a/img/v1/152x152/i1/c182026/jasmine-naeem.jpg   \n",
       "2    /a/img/v1/152x152/i1/c182026/toby-greatwood.jpg   \n",
       "3        /a/img/v1/152x152/i1/c182026/max-harris.jpg   \n",
       "4         /a/img/v1/152x152/i1/c182026/ben-wells.jpg   \n",
       "\n",
       "                        born                      birth_place height  \\\n",
       "0                        --                               --     --    \n",
       "1                        --                               --     --    \n",
       "2   Oct 21, 2001 (20 years)    High Wycombe, Buckinghamshire     --    \n",
       "3   Aug 17, 2001 (20 years)                           London     --    \n",
       "4   Jul 30, 2000 (21 years)          Bath, Somerset, England     --    \n",
       "\n",
       "                   role           bat_style               bowl_style  \n",
       "0   Bowling Allrounder    Right Handed Bat         Right-arm medium   \n",
       "1                   --    Right Handed Bat                  England   \n",
       "2                   --    Right Handed Bat         Right-arm medium   \n",
       "3                   --    Right Handed Bat    Right-arm fast-medium   \n",
       "4           WK-Batsman    Right Handed Bat          Gloucestershire   "
      ]
     },
     "execution_count": 5,
     "metadata": {},
     "output_type": "execute_result"
    }
   ],
   "source": [
    "df1.head()"
   ]
  },
  {
   "cell_type": "code",
   "execution_count": 7,
   "id": "ba6bdbaa",
   "metadata": {},
   "outputs": [
    {
     "data": {
      "text/plain": [
       "(13335, 340)"
      ]
     },
     "execution_count": 7,
     "metadata": {},
     "output_type": "execute_result"
    }
   ],
   "source": [
    "len(df), len(df1)"
   ]
  },
  {
   "cell_type": "code",
   "execution_count": 8,
   "id": "9ac6754b",
   "metadata": {},
   "outputs": [
    {
     "data": {
      "text/plain": [
       "13675"
      ]
     },
     "execution_count": 8,
     "metadata": {},
     "output_type": "execute_result"
    }
   ],
   "source": [
    "len(df) + len(df1)"
   ]
  },
  {
   "cell_type": "code",
   "execution_count": null,
   "id": "a769bdbe",
   "metadata": {},
   "outputs": [],
   "source": []
  }
 ],
 "metadata": {
  "hide_input": false,
  "kernelspec": {
   "display_name": "Python 3 (ipykernel)",
   "language": "python",
   "name": "python3"
  },
  "language_info": {
   "codemirror_mode": {
    "name": "ipython",
    "version": 3
   },
   "file_extension": ".py",
   "mimetype": "text/x-python",
   "name": "python",
   "nbconvert_exporter": "python",
   "pygments_lexer": "ipython3",
   "version": "3.9.7"
  }
 },
 "nbformat": 4,
 "nbformat_minor": 5
}
